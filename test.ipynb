{
 "cells": [
  {
   "cell_type": "markdown",
   "metadata": {},
   "source": [
    "AI Tinkers demo"
   ]
  },
  {
   "cell_type": "markdown",
   "metadata": {},
   "source": [
    "Arquitecture"
   ]
  },
  {
   "cell_type": "code",
   "execution_count": 3,
   "metadata": {},
   "outputs": [
    {
     "data": {
      "text/html": [
       "\n",
       "<table>\n",
       "<tr>\n",
       "<td><img src=\"demo_arq.png\" width=\"500\"></td>\n",
       "<td><img src=\"prod_demo.png\" width=\"500\"></td>\n",
       "</tr>\n",
       "</table>\n"
      ],
      "text/plain": [
       "<IPython.core.display.HTML object>"
      ]
     },
     "metadata": {},
     "output_type": "display_data"
    }
   ],
   "source": [
    "from IPython.display import display, HTML\n",
    "\n",
    "image_path1 = 'demo_arq.png'\n",
    "image_path2 = 'prod_demo.png'\n",
    "\n",
    "html = f\"\"\"\n",
    "<table>\n",
    "<tr>\n",
    "<td><img src=\"{image_path1}\" width=\"500\"></td>\n",
    "<td><img src=\"{image_path2}\" width=\"500\"></td>\n",
    "</tr>\n",
    "</table>\n",
    "\"\"\"\n",
    "\n",
    "display(HTML(html))"
   ]
  },
  {
   "cell_type": "code",
   "execution_count": 7,
   "metadata": {},
   "outputs": [],
   "source": [
    "import boto3\n",
    "import io\n",
    "from PyPDF2 import PdfReader\n",
    "import re\n",
    "from report import generate_report\n",
    "import os\n",
    "import json\n",
    "\n",
    "s3 = boto3.client('s3', region_name='us-east-1')\n",
    "s3_client = boto3.client('s3')\n",
    "bucket_name = \"pdf-chunks-generated\"\n",
    "output_bucket = 'txt-files-chunks'\n",
    "\n",
    "pdf_file = 'cognito-dg.pdf_chunk_12.pdf'\n",
    "\n",
    "folder_name = os.path.dirname(pdf_file)\n",
    "pdf_response = s3_client.get_object(Bucket=bucket_name, Key=pdf_file)\n",
    "file_content = pdf_response['Body'].read()\n",
    "\n",
    "pdf_reader = PdfReader(io.BytesIO(file_content))\n",
    "total_pages = len(pdf_reader.pages)\n",
    "\n",
    "pdf_text = \"\"\n",
    "for page in range(len(pdf_reader.pages)):\n",
    "    pdf_text += pdf_reader.getPage(page).extractText()\n",
    "          \n",
    "report = generate_report(pdf_text)\n",
    "json_content_after_report = re.findall(r'\\{.*?\\}', report, re.DOTALL)\n",
    "unique_chunk_identifier = pdf_file.split('/')[-1]\n",
    "output_filename = f\"{unique_chunk_identifier}.txt\"\n",
    "new_file_name = f\"{folder_name}/{output_filename}\""
   ]
  },
  {
   "cell_type": "code",
   "execution_count": 12,
   "metadata": {},
   "outputs": [
    {
     "data": {
      "text/plain": [
       "' Here is an enhanced description for the \"Use IAM Access Analyzer\" countermeasure:\\n\\n\"description\": \"Use IAM Access Analyzer to validate IAM policies and ensure least privilege access. This automated policy checker identifies potential issues such as overly permissive policies, privilege escalation risks, and unused entities.\\n\\nDetailed Examples:\\n- Run Access Analyzer each time new IAM policies are created or existing ones updated to validate policy structure, semantics, access levels granted. It checks for issues like data exposures to external entities, privileged resource access, potential privilege escalation.  \\n- Integrate Access Analyzer with CI/CD pipelines for continuous validation ensuring policies deployed to production adhere to security standards. Useful for multi-account AWS environments.\\n\\nStep-by-Step Implementation: \\n1. Enable IAM Access Analyzer in the AWS Console or via API.\\n2. Select policy types for analysis - Custom policies, Service Control Policies (SCPs), Identity-based policies.  \\n3. Set up notifications for findings through EventBridge or SNS topics.\\n4. Review findings, understand impact, determine remediation steps based on risk levels.\\n\\nBest Practices and Considerations:\\n- Validate both new and existing policies regularly for maximum coverage.\\n- Leverage policy summaries and exploration features for deeper insights.\\n- Implement a exceptions process for legitimate accesses flagged by Access Analyzer.\\n\\nTools and Technologies: \\n- Access Analyzer integrates with AWS CLI, SDKs, CloudFormation to enable automated policy checks through CI/CD pipelines.\\n- For identity federations, combine with tools like AWS Audit Manager for comprehensive governance.\\n\"'"
      ]
     },
     "execution_count": 12,
     "metadata": {},
     "output_type": "execute_result"
    }
   ],
   "source": [
    "transformed_content"
   ]
  },
  {
   "cell_type": "code",
   "execution_count": 8,
   "metadata": {},
   "outputs": [
    {
     "data": {
      "text/plain": [
       "' Based on the context, here are the relevant countermeasures I could extract:\\n\\n[\\n    {\\n        \"title\": \"Enforce password complexity requirements\",\\n        \"description\": \"Configure the user pool to require minimum password length of 8 characters and a mix of uppercase, lowercase, numeric, and special characters.\",\\n        \"target\": \"Weak passwords\", \\n        \"context\": \"You can configure your user pool to require a minimum password complexity that conforms to your \\\\nsecurity standards. Complex passwords have a minimum length of at least eight characters. They \\\\nalso include a mix of uppercase, numeric, and special characters.\",\\n        \"tags\": [\"Authentication\", \"Access Control\", \"Security Policies\"]\\n    },\\n    {\\n        \"title\": \"Log password resets externally\", \\n        \"description\": \"Since Amazon Cognito user pool passwords don\\'t expire automatically, log the date/time and metadata of password resets in an external system. Then the application or a Lambda trigger can enforce password expiry by looking up password age and requiring resets after a period.\",\\n        \"target\": \"Lack of password expiry\",\\n        \"context\": \"Passwords for local users in Amazon Cognito user pools don\\'t automatically expire. As a best \\\\npractice, log the time, date, and metadata of user password resets in an external system. With an \\\\nexternal log of password age, your application or a Lambda trigger can look up a user\\'s password \\\\nage and require a reset after a given period.\",\\n        \"tags\": [\"Authentication\", \"Access Control\", \"Security Policies\"]\\n    },\\n    {\\n        \"title\": \"Enable MFA for account recovery\", \\n        \"description\": \"When SMS MFA is enabled for a user, configure the AccountRecoverySetting priority so that SMS cannot be used for account recovery. Instead use email or phone as the recovery mechanism.\",\\n        \"target\": \"Insecure account recovery\",\\n        \"context\": \"When you define AccountRecoverySetting  and a user has SMS MFA configured, SMS cannot be \\\\nused as an account recovery mechanism. The priority for this setting is determined with 1 being of \\\\nthe highest priority.\",\\n        \"tags\": [\"Authentication\", \"Access Control\", \"Security Policies\"]\\n    }\\n]'"
      ]
     },
     "execution_count": 8,
     "metadata": {},
     "output_type": "execute_result"
    }
   ],
   "source": [
    "report"
   ]
  },
  {
   "cell_type": "code",
   "execution_count": 9,
   "metadata": {},
   "outputs": [
    {
     "data": {
      "text/plain": [
       "['{\\n        \"title\": \"Enforce password complexity requirements\",\\n        \"description\": \"Configure the user pool to require minimum password length of 8 characters and a mix of uppercase, lowercase, numeric, and special characters.\",\\n        \"target\": \"Weak passwords\", \\n        \"context\": \"You can configure your user pool to require a minimum password complexity that conforms to your \\\\nsecurity standards. Complex passwords have a minimum length of at least eight characters. They \\\\nalso include a mix of uppercase, numeric, and special characters.\",\\n        \"tags\": [\"Authentication\", \"Access Control\", \"Security Policies\"]\\n    }',\n",
       " '{\\n        \"title\": \"Log password resets externally\", \\n        \"description\": \"Since Amazon Cognito user pool passwords don\\'t expire automatically, log the date/time and metadata of password resets in an external system. Then the application or a Lambda trigger can enforce password expiry by looking up password age and requiring resets after a period.\",\\n        \"target\": \"Lack of password expiry\",\\n        \"context\": \"Passwords for local users in Amazon Cognito user pools don\\'t automatically expire. As a best \\\\npractice, log the time, date, and metadata of user password resets in an external system. With an \\\\nexternal log of password age, your application or a Lambda trigger can look up a user\\'s password \\\\nage and require a reset after a given period.\",\\n        \"tags\": [\"Authentication\", \"Access Control\", \"Security Policies\"]\\n    }',\n",
       " '{\\n        \"title\": \"Enable MFA for account recovery\", \\n        \"description\": \"When SMS MFA is enabled for a user, configure the AccountRecoverySetting priority so that SMS cannot be used for account recovery. Instead use email or phone as the recovery mechanism.\",\\n        \"target\": \"Insecure account recovery\",\\n        \"context\": \"When you define AccountRecoverySetting  and a user has SMS MFA configured, SMS cannot be \\\\nused as an account recovery mechanism. The priority for this setting is determined with 1 being of \\\\nthe highest priority.\",\\n        \"tags\": [\"Authentication\", \"Access Control\", \"Security Policies\"]\\n    }']"
      ]
     },
     "execution_count": 9,
     "metadata": {},
     "output_type": "execute_result"
    }
   ],
   "source": [
    "json_content_after_report"
   ]
  },
  {
   "cell_type": "code",
   "execution_count": 10,
   "metadata": {},
   "outputs": [],
   "source": [
    "import boto3\n",
    "import io\n",
    "from PyPDF2 import PdfReader\n",
    "import re\n",
    "from report import generate_report\n",
    "import os\n",
    "import json\n",
    "\n",
    "s3 = boto3.client('s3', region_name='us-east-1')\n",
    "s3_client = boto3.client('s3')\n",
    "bucket_name = \"pdf-chunks-generated\"\n",
    "output_bucket = 'txt-files-chunks'\n",
    "\n",
    "def lambda_handler(pdf_file):\n",
    "    \n",
    "    folder_name = os.path.dirname(pdf_file)\n",
    "    pdf_response = s3_client.get_object(Bucket=bucket_name, Key=pdf_file)\n",
    "    file_content = pdf_response['Body'].read()\n",
    "\n",
    "    pdf_reader = PdfReader(io.BytesIO(file_content))\n",
    "    total_pages = len(pdf_reader.pages)\n",
    "\n",
    "    pdf_text = \"\"\n",
    "    for page in range(len(pdf_reader.pages)):\n",
    "        pdf_text += pdf_reader.getPage(page).extractText()\n",
    "\n",
    "    try:            \n",
    "        report = generate_report(pdf_text)\n",
    "        json_content_after_report = re.findall(r'\\{.*?\\}', report, re.DOTALL)\n",
    "    except:\n",
    "        json_content_after_report = \"\"\n",
    "            \n",
    "    unique_chunk_identifier = pdf_file.split('/')[-1]\n",
    "    output_filename = f\"{unique_chunk_identifier}.txt\"\n",
    "    new_file_name = f\"{output_filename}\"\n",
    "\n",
    "    return json_content_after_report\n"
   ]
  },
  {
   "cell_type": "code",
   "execution_count": 11,
   "metadata": {},
   "outputs": [
    {
     "data": {
      "text/plain": [
       "['{\\n        \"title\": \"Enforce password complexity requirements\",\\n        \"description\": \"Configure the user pool to require a minimum password length of 8 characters and a mix of uppercase, lowercase, numeric, and special characters.\",\\n        \"target\": \"Weak passwords\", \\n        \"context\": \"You can configure your user pool to require a minimum password complexity that conforms to your \\\\nsecurity standards. Complex passwords have a minimum length of at least eight characters. They \\\\nalso include a mix of uppercase, numeric, and special characters.\",\\n        \"tags\": [\\n            \"Access Control\",\\n            \"Security Policies\",\\n            \"Best Practices\"\\n        ]\\n    }',\n",
       " '{\\n        \"title\": \"Log password resets externally\", \\n        \"description\": \"Since Amazon Cognito user pool passwords don\\'t expire automatically, log the date/time and metadata of user password resets in an external system. Use this to look up a user\\'s password age and require a reset after a defined period.\",\\n        \"target\": \"Lack of password expiration\",\\n        \"context\": \"Passwords for local users in Amazon Cognito user pools don\\'t automatically expire. As a best \\\\npractice, log the time, date, and metadata of user password resets in an external system. With an \\\\nexternal log of password age, your application or a Lambda trigger can look up a user\\'s password \\\\nage and require a reset after a given period.\", \\n        \"tags\": [\\n            \"Access Control\", \\n            \"Security Policies\",\\n            \"Best Practices\"\\n        ]\\n    }',\n",
       " '{\\n        \"title\": \"Enable MFA for account recovery\",\\n        \"description\": \"When defining the AccountRecoverySetting for password recovery, if a user has SMS MFA enabled, disable the use of SMS as an account recovery mechanism to prevent unauthorized access.\",\\n        \"target\": \"Insecure account recovery\",\\n        \"context\": \"When you define AccountRecoverySetting  and a user has SMS MFA configured, SMS cannot be \\\\nused as an account recovery mechanism.\",\\n        \"tags\": [\\n            \"Authentication\",\\n            \"Access Control\",\\n            \"Security Policies\"  \\n        ]\\n    }']"
      ]
     },
     "execution_count": 11,
     "metadata": {},
     "output_type": "execute_result"
    }
   ],
   "source": [
    "lambda_handler(\"cognito-dg.pdf_chunk_12.pdf\")"
   ]
  },
  {
   "cell_type": "code",
   "execution_count": 1,
   "metadata": {},
   "outputs": [
    {
     "data": {
      "text/plain": [
       "'cognito-dg'"
      ]
     },
     "execution_count": 1,
     "metadata": {},
     "output_type": "execute_result"
    }
   ],
   "source": [
    "text = \"cognito-dg.pdf_chunk_1.pdf\"\n",
    "#result is the text but before the .pdf\n",
    "result = text.split(\".pdf\")[0]\n",
    "result"
   ]
  },
  {
   "cell_type": "code",
   "execution_count": 28,
   "metadata": {},
   "outputs": [
    {
     "data": {
      "text/plain": [
       "'cognito-dg'"
      ]
     },
     "execution_count": 28,
     "metadata": {},
     "output_type": "execute_result"
    }
   ],
   "source": [
    "#folder name is the file name before the first _\n",
    "folder_name = pdf_file.split('_')[0].replace('.pdf', '')\n",
    "folder_name"
   ]
  },
  {
   "cell_type": "code",
   "execution_count": 24,
   "metadata": {},
   "outputs": [
    {
     "data": {
      "text/plain": [
       "''"
      ]
     },
     "execution_count": 24,
     "metadata": {},
     "output_type": "execute_result"
    }
   ],
   "source": [
    "folder_name = os.path.dirname(pdf_file)\n",
    "folder_name"
   ]
  },
  {
   "cell_type": "code",
   "execution_count": 22,
   "metadata": {},
   "outputs": [],
   "source": [
    "new_file_name = f\"{output_filename}\""
   ]
  },
  {
   "cell_type": "code",
   "execution_count": 23,
   "metadata": {},
   "outputs": [
    {
     "data": {
      "text/plain": [
       "'cognito-dg.pdf_chunk_12.pdf.txt'"
      ]
     },
     "execution_count": 23,
     "metadata": {},
     "output_type": "execute_result"
    }
   ],
   "source": [
    "new_file_name"
   ]
  },
  {
   "cell_type": "code",
   "execution_count": 16,
   "metadata": {},
   "outputs": [
    {
     "data": {
      "text/plain": [
       "['{\\n        \"title\": \"Enforce password complexity requirements\",\\n        \"description\": \"Configure the user pool to require minimum password length of 8 characters and a mix of uppercase, lowercase, numeric, and special characters.\",\\n        \"target\": \"Weak passwords\", \\n        \"context\": \"You can configure your user pool to require a minimum password complexity that conforms to your \\\\nsecurity standards. Complex passwords have a minimum length of at least eight characters. They \\\\nalso include a mix of uppercase, numeric, and special characters.\",\\n        \"tags\": [\"Authentication\", \"Access Control\", \"Security Policies\"]\\n    }',\n",
       " '{\\n        \"title\": \"Log password resets externally\", \\n        \"description\": \"Since Amazon Cognito user pool passwords don\\'t expire automatically, log the date/time and metadata of password resets in an external system. Then the application or a Lambda trigger can enforce password expiry by looking up password age and requiring resets after a period.\",\\n        \"target\": \"Lack of password expiry\",\\n        \"context\": \"Passwords for local users in Amazon Cognito user pools don\\'t automatically expire. As a best \\\\npractice, log the time, date, and metadata of user password resets in an external system. With an \\\\nexternal log of password age, your application or a Lambda trigger can look up a user\\'s password \\\\nage and require a reset after a given period.\",\\n        \"tags\": [\"Authentication\", \"Access Control\", \"Security Policies\"]\\n    }',\n",
       " '{\\n        \"title\": \"Enable MFA for account recovery\", \\n        \"description\": \"When SMS MFA is enabled for a user, configure the AccountRecoverySetting priority so that SMS cannot be used for account recovery. Instead use email or phone as the recovery mechanism.\",\\n        \"target\": \"Insecure account recovery\",\\n        \"context\": \"When you define AccountRecoverySetting  and a user has SMS MFA configured, SMS cannot be \\\\nused as an account recovery mechanism. The priority for this setting is determined with 1 being of \\\\nthe highest priority.\",\\n        \"tags\": [\"Authentication\", \"Access Control\", \"Security Policies\"]\\n    }']"
      ]
     },
     "execution_count": 16,
     "metadata": {},
     "output_type": "execute_result"
    }
   ],
   "source": [
    "json_content_after_report"
   ]
  },
  {
   "cell_type": "code",
   "execution_count": 17,
   "metadata": {},
   "outputs": [],
   "source": [
    "final_output = \"\"\n",
    "final_output += \"\".join(json_content_after_report) + \"\\n\""
   ]
  },
  {
   "cell_type": "code",
   "execution_count": 18,
   "metadata": {},
   "outputs": [
    {
     "data": {
      "text/plain": [
       "'{\\n        \"title\": \"Enforce password complexity requirements\",\\n        \"description\": \"Configure the user pool to require minimum password length of 8 characters and a mix of uppercase, lowercase, numeric, and special characters.\",\\n        \"target\": \"Weak passwords\", \\n        \"context\": \"You can configure your user pool to require a minimum password complexity that conforms to your \\\\nsecurity standards. Complex passwords have a minimum length of at least eight characters. They \\\\nalso include a mix of uppercase, numeric, and special characters.\",\\n        \"tags\": [\"Authentication\", \"Access Control\", \"Security Policies\"]\\n    }{\\n        \"title\": \"Log password resets externally\", \\n        \"description\": \"Since Amazon Cognito user pool passwords don\\'t expire automatically, log the date/time and metadata of password resets in an external system. Then the application or a Lambda trigger can enforce password expiry by looking up password age and requiring resets after a period.\",\\n        \"target\": \"Lack of password expiry\",\\n        \"context\": \"Passwords for local users in Amazon Cognito user pools don\\'t automatically expire. As a best \\\\npractice, log the time, date, and metadata of user password resets in an external system. With an \\\\nexternal log of password age, your application or a Lambda trigger can look up a user\\'s password \\\\nage and require a reset after a given period.\",\\n        \"tags\": [\"Authentication\", \"Access Control\", \"Security Policies\"]\\n    }{\\n        \"title\": \"Enable MFA for account recovery\", \\n        \"description\": \"When SMS MFA is enabled for a user, configure the AccountRecoverySetting priority so that SMS cannot be used for account recovery. Instead use email or phone as the recovery mechanism.\",\\n        \"target\": \"Insecure account recovery\",\\n        \"context\": \"When you define AccountRecoverySetting  and a user has SMS MFA configured, SMS cannot be \\\\nused as an account recovery mechanism. The priority for this setting is determined with 1 being of \\\\nthe highest priority.\",\\n        \"tags\": [\"Authentication\", \"Access Control\", \"Security Policies\"]\\n    }\\n'"
      ]
     },
     "execution_count": 18,
     "metadata": {},
     "output_type": "execute_result"
    }
   ],
   "source": [
    "final_output"
   ]
  },
  {
   "cell_type": "code",
   "execution_count": 20,
   "metadata": {},
   "outputs": [
    {
     "data": {
      "text/plain": [
       "'/cognito-dg.pdf_chunk_12.pdf.txt'"
      ]
     },
     "execution_count": 20,
     "metadata": {},
     "output_type": "execute_result"
    }
   ],
   "source": [
    "new_file_name"
   ]
  },
  {
   "cell_type": "code",
   "execution_count": 19,
   "metadata": {},
   "outputs": [
    {
     "data": {
      "text/plain": [
       "{'ResponseMetadata': {'RequestId': 'SKX3BFRKB8BYHNV5',\n",
       "  'HostId': 'hEJtbpAfB7weIDxWe42Ailb9frI9Syz97DT9LddjizvLvPpv5UVjai/IpGSKj2rh7iPNUPUxh4NJmYRgoORGMbo07Hjl0ITS',\n",
       "  'HTTPStatusCode': 200,\n",
       "  'HTTPHeaders': {'x-amz-id-2': 'hEJtbpAfB7weIDxWe42Ailb9frI9Syz97DT9LddjizvLvPpv5UVjai/IpGSKj2rh7iPNUPUxh4NJmYRgoORGMbo07Hjl0ITS',\n",
       "   'x-amz-request-id': 'SKX3BFRKB8BYHNV5',\n",
       "   'date': 'Wed, 24 Apr 2024 00:07:53 GMT',\n",
       "   'x-amz-server-side-encryption': 'AES256',\n",
       "   'etag': '\"39485a9579334f830b6cf31f0e1b9276\"',\n",
       "   'server': 'AmazonS3',\n",
       "   'content-length': '0'},\n",
       "  'RetryAttempts': 0},\n",
       " 'ETag': '\"39485a9579334f830b6cf31f0e1b9276\"',\n",
       " 'ServerSideEncryption': 'AES256'}"
      ]
     },
     "execution_count": 19,
     "metadata": {},
     "output_type": "execute_result"
    }
   ],
   "source": [
    "s3.put_object(Bucket=output_bucket, Key=new_file_name, Body=final_output.encode('utf-8'))"
   ]
  },
  {
   "cell_type": "code",
   "execution_count": 3,
   "metadata": {},
   "outputs": [
    {
     "data": {
      "text/plain": [
       "''"
      ]
     },
     "execution_count": 3,
     "metadata": {},
     "output_type": "execute_result"
    }
   ],
   "source": [
    "lambda_handler(\"ecr-ug.pdf_chunk_3.pdf\")"
   ]
  },
  {
   "cell_type": "code",
   "execution_count": null,
   "metadata": {},
   "outputs": [],
   "source": [
    "lambda_handler(\"ecr-ug.pdf_chunk_2.pdf\")"
   ]
  }
 ],
 "metadata": {
  "kernelspec": {
   "display_name": "demo",
   "language": "python",
   "name": "python3"
  },
  "language_info": {
   "codemirror_mode": {
    "name": "ipython",
    "version": 3
   },
   "file_extension": ".py",
   "mimetype": "text/x-python",
   "name": "python",
   "nbconvert_exporter": "python",
   "pygments_lexer": "ipython3",
   "version": "3.10.12"
  }
 },
 "nbformat": 4,
 "nbformat_minor": 2
}
